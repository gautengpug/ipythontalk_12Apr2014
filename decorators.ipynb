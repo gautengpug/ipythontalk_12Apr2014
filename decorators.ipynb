{
 "metadata": {
  "name": "",
  "signature": "sha256:e3346b833033e5dc9e8655e0b1c0860a1d7cb66131e604e0c326539c22dfd5e6"
 },
 "nbformat": 3,
 "nbformat_minor": 0,
 "worksheets": [
  {
   "cells": [
    {
     "cell_type": "heading",
     "level": 1,
     "metadata": {},
     "source": [
      "Notes on Python Decorators"
     ]
    },
    {
     "cell_type": "code",
     "collapsed": false,
     "input": [
      "%run talktools.py"
     ],
     "language": "python",
     "metadata": {},
     "outputs": []
    },
    {
     "cell_type": "markdown",
     "metadata": {},
     "source": [
      "This document captures the essential elements of decorators, based on the work of others.  The text here is brief, please consult the references for more details."
     ]
    },
    {
     "cell_type": "heading",
     "level": 2,
     "metadata": {},
     "source": [
      "Don't have time?"
     ]
    },
    {
     "cell_type": "markdown",
     "metadata": {},
     "source": [
      "If you don't have time to read this document, just [go here](http://wrapt.readthedocs.org/en/latest/) and follow the instructions."
     ]
    },
    {
     "cell_type": "heading",
     "level": 2,
     "metadata": {},
     "source": [
      "Use case"
     ]
    },
    {
     "cell_type": "markdown",
     "metadata": {},
     "source": [
      "The [pyradi](https://code.google.com/p/pyradi/) module provides an environment for computational optical radiometry. The `pyradi.ryplanck`  file implements the [Planck equations](https://en.wikipedia.org/wiki/Planck's_law) as demonstrated [here](http://nbviewer.ipython.org/github/NelisW/ComputationalRadiometry/blob/master/07-Optical%20Sources.ipynb). \n",
      "\n",
      "The Planck equations have a form similar to this:\n",
      "$$\n",
      "M_{e\\lambda}(T)\n",
      "=\\frac{2\\pi h c^2}{\\lambda^5 \\left(e^{hc/(\\lambda kT)}-1\\right)} \n",
      "=\\frac{c_{1e\\lambda}}{\\lambda^5 \\left(e^{c_{2\\lambda}/(\\lambda T)}-1\\right)}\n",
      "$$\n",
      "where temperature $T$ and wavelength $\\lambda$ are numpy arrays of shape [T,] or [T,N] and [L,] respectively.  The values of $T$ and  $\\lambda$ are independent of each other. The calculation of the equation must be done for all combinations of $T$ and  $\\lambda$, but such that the structure of the return variable is [L,1] or [L,N].\n",
      "\n",
      "There are two issues in implementing these functions for computing: \n",
      "\n",
      "-  There are twelve variations of this equation, with slightly different forms, for \n",
      "\n",
      "    *  3x frequency, wavenumber, and wavelength units,\n",
      "    *  2x radiant units and photon units, and \n",
      "    *  2x basic form and temperature derivative form.\n",
      "\n",
      "-  The Planck equation is easy to calculate for a given temperature and wavelength, does not lend itself to N-dimensional vectorised calculation because of its relatively complex form.  Some data preparation must be done prior to doing the Planck equation calculation."
     ]
    },
    {
     "cell_type": "markdown",
     "metadata": {},
     "source": [
      "A practical solution to this problem is to (1) pass the temperature and spectral data as N-dimensional arrays, but (2) to 'flatten' these to a  simpler form, (3) do the calculations on the simple form and then (4) reshape the result back into the N-dimensional form. Of course, the flattening and reshaping must be the inverse of each other.\n",
      "\n",
      "The flattening step essentially creates two new arrays (one for temperature and one for wavelength) that contain all possible variations of these two variables. This is done with [numpy.meshgrid](http://docs.scipy.org/doc/numpy/reference/generated/numpy.meshgrid.html). The two [N,T] arrays are then reshaped to (NT,) arrays with [numpy.ravel](http://docs.scipy.org/doc/numpy/reference/generated/numpy.ravel.html).\n",
      "\n",
      "Each of the twelve equation variations requires exactly the same flattening and reshaping. It is indeed an arduous and error-prone task to write and maintain twelve copies of the same code, embedded in the twelve functions.\n",
      "\n",
      "The implementation is hugely simplified by using the Python [decorator](http://www.artima.com/weblogs/viewpost.jsp?thread=240808) to do the pre-processing (variable checking and flattening) and post-processing (reshaping) of the arrays.  There is only one copy/version of this pre-post-processor decorator, used as a wrapper around all twelve function variations.\n",
      "\n",
      "In the following code docstrings and much functional code are removed to focus on the salient content."
     ]
    },
    {
     "cell_type": "markdown",
     "metadata": {},
     "source": [
      "First, consider the **Planck function wrapped in the decorator** (indicated here as `@fixDimensions`). \n",
      "Note that the user function  focuses only on the Planck equation and not on array dimensions. The `fixDimensions` intercepts all the input and output from this function and process according to the decorator requirements.\n",
      "\n",
      "    @fixDimensions\n",
      "    def planckel(spectral, temperature):\n",
      "        return (pconst.c1el / ( numpy.exp(exP2)-1)) / (spectral ** 5)\n",
      "        \n",
      "    @fixDimensions\n",
      "    def planckqn(spectral, temperature):\n",
      "        exP =  pconst.c2n * spectral / temperature\n",
      "        exP2 = np.where(exP<explimit, exP, 1);\n",
      "        return pconst.c1qn * spectral**2 / (np.exp(exP2)-1);\n",
      "\n",
      "Repeat this twelve times for the twelve functions."
     ]
    },
    {
     "cell_type": "markdown",
     "metadata": {},
     "source": [
      "The **decorator function** focuses only on manipulation of input and output data formats, and has no idea what is happening inside the Planck functions, which it wraps.  \n",
      "\n",
      "    def fixDimensions(planckFun):\n",
      "      @wraps(planckFun)\n",
      "      def inner(spectral, temperature):\n",
      "      \n",
      "The decorator function reshapes and creates a meshgrid to provide all the combinations of input sample values and then flattens the arrays by using the ravel function.  \n",
      "\n",
      "        # create flattened version of the input dataset\n",
      "        specgrid, tempgrid = numpy.meshgrid(spectral,temperature)\n",
      "        spec = numpy.ravel(specgrid)\n",
      "        temp = numpy.ravel(tempgrid)\n",
      "    \n",
      "At this point the Planck function is called with the flattened arrays. \n",
      "\n",
      "        planckA = planckFun(spec,temp) \n",
      "        \n",
      "After the function returns, the return values are handed back to the decorator function which then proceeds to reshape the array back into a format the user can work with.\n",
      "    \n",
      "        # now unflatten to proper structure again, spectral along axis=0\n",
      "        return planckA.reshape(temperature.shape[0],-1).T\n",
      "\n",
      "      return inner"
     ]
    },
    {
     "cell_type": "heading",
     "level": 2,
     "metadata": {},
     "source": [
      "Decorators, why?"
     ]
    },
    {
     "cell_type": "markdown",
     "metadata": {},
     "source": [
      "- add functionality to existing functions and classes.\n",
      "- do timing on functions.\n",
      "- perform pre- and post-formatting on data.\n",
      "- diagnostics and testing.\n",
      "- perform monkey patching.\n"
     ]
    },
    {
     "cell_type": "heading",
     "level": 2,
     "metadata": {},
     "source": [
      "Decorator concepts"
     ]
    },
    {
     "cell_type": "markdown",
     "metadata": {},
     "source": [
      "The concepts underlying the Python decorator are described in detail in the references at the end of this notebook. This section serves to summarise, leaning rather heavily on the references in doing so.\n",
      "\n",
      "This discussion is centred around Python 2.7, apparently the Python 3 syntax is somewhat different.\n"
     ]
    },
    {
     "cell_type": "markdown",
     "metadata": {},
     "source": [
      "In [twelve easy steps](http://simeonfranklin.com/blog/2012/jul/1/python-decorators-in-12-steps/) Franklin provides the ground work for building up to the punchline. For a more verbose discussion see Franklin's page. These are:"
     ]
    },
    {
     "cell_type": "markdown",
     "metadata": {},
     "source": [
      "1\\. It all starts with Python functions that has a name, an optional list of parameters (positional and named/default) and can return a value."
     ]
    },
    {
     "cell_type": "markdown",
     "metadata": {},
     "source": [
      "2\\. Variables defined inside a function has scope only inside the function."
     ]
    },
    {
     "cell_type": "markdown",
     "metadata": {},
     "source": [
      "3\\. Variable names are resolved (for access) with the LEGB (local, enclosing, global, built-in) rule. The first name found is used.  Inner scopes have read access to outer scopes, but not write/change access."
     ]
    },
    {
     "cell_type": "markdown",
     "metadata": {},
     "source": [
      "4\\. Variables has lifetime only in the scope that exists at any moment."
     ]
    },
    {
     "cell_type": "markdown",
     "metadata": {},
     "source": [
      "5\\. Variables passed as function parameters become local variables in the function."
     ]
    },
    {
     "cell_type": "markdown",
     "metadata": {},
     "source": [
      "6\\. Python allows nested functions, with the normal scoping rules. In this code `inner` is a local variable in the function `outer`, it just happens to be a function:"
     ]
    },
    {
     "cell_type": "code",
     "collapsed": false,
     "input": [
      "def outer():\n",
      "    x = 1\n",
      "    def inner():\n",
      "        print(x)\n",
      "    inner()\n",
      "    \n",
      "outer()    "
     ],
     "language": "python",
     "metadata": {},
     "outputs": []
    },
    {
     "cell_type": "markdown",
     "metadata": {},
     "source": [
      "7\\. Functions are objects that/(whose names) can be passed as variables to functions and can be returned from functions. "
     ]
    },
    {
     "cell_type": "code",
     "collapsed": false,
     "input": [
      "def add(x, y):\n",
      "    return x + y\n",
      "def apply(func, x, y):\n",
      "    return func(x, y)\n",
      "apply(add, 2, 1)"
     ],
     "language": "python",
     "metadata": {},
     "outputs": []
    },
    {
     "cell_type": "markdown",
     "metadata": {},
     "source": [
      "In this example, `inner` is redefined every time when `outer()` is executed. The function `outer` returns the function name `inner` which can be called with `()`."
     ]
    },
    {
     "cell_type": "code",
     "collapsed": false,
     "input": [
      "def outer():\n",
      "    def inner():\n",
      "        print('Inside inner')\n",
      "    return inner\n",
      "\n",
      "print(outer)\n",
      "foo = outer()\n",
      "print(foo)\n",
      "foo()"
     ],
     "language": "python",
     "metadata": {},
     "outputs": []
    },
    {
     "cell_type": "markdown",
     "metadata": {},
     "source": [
      "8\\. Python supports function closure, which means that non-global functions remember what their enclosing namespaces looked like at definition time, even if the enclosing environment (function in this case) goes out of scope.   In this example the variable `x` goes out of scope when `outer()` returns `inner` to the variable `foo`, but `inner` still remembers the value when `foo()` is executed."
     ]
    },
    {
     "cell_type": "code",
     "collapsed": false,
     "input": [
      "def outer():\n",
      "    x = 1\n",
      "    def inner():\n",
      "        print(x)\n",
      "    return inner\n",
      "foo = outer()\n",
      "print(foo.func_closure)\n",
      "foo()"
     ],
     "language": "python",
     "metadata": {},
     "outputs": []
    },
    {
     "cell_type": "markdown",
     "metadata": {},
     "source": [
      "Here is an example of how closure can build custom functions:"
     ]
    },
    {
     "cell_type": "code",
     "collapsed": false,
     "input": [
      "def outer(x):\n",
      "    def inner():\n",
      "        print x # 1\n",
      "    return inner\n",
      "print1 = outer(1)\n",
      "print2 = outer(2)\n",
      "print1()\n",
      "print2()\n"
     ],
     "language": "python",
     "metadata": {},
     "outputs": []
    },
    {
     "cell_type": "markdown",
     "metadata": {},
     "source": [
      "9\\. A decorator is a function that takes a function name as an argument and returns a replacement function, which can be called elsewhere. Here is the principle at work for a function with no parameters:"
     ]
    },
    {
     "cell_type": "code",
     "collapsed": false,
     "input": [
      "def outer(some_func):\n",
      "    def inner():\n",
      "        print('before some_func - do whatever you want before')\n",
      "        ret = some_func()\n",
      "        print('after some_func - do whatever you want after')\n",
      "        return ret + 1\n",
      "    return inner\n",
      "def foo():\n",
      "    return 1\n",
      "decorated = outer(foo)\n",
      "decorated()"
     ],
     "language": "python",
     "metadata": {},
     "outputs": []
    },
    {
     "cell_type": "markdown",
     "metadata": {},
     "source": [
      "If we want to keep the `foo` function name, just reassign it to the decorated function, then calling `foo` will call the decorated function.\n",
      "\n",
      "Caveat IPython cell memory!  Run the following cell a few times...."
     ]
    },
    {
     "cell_type": "code",
     "collapsed": false,
     "input": [
      "foo = outer(foo) # now becomes outer(foo), same as decorated above\n",
      "print(foo)\n",
      "foo() "
     ],
     "language": "python",
     "metadata": {},
     "outputs": []
    },
    {
     "cell_type": "markdown",
     "metadata": {},
     "source": [
      "10\\. The @ symbol applies a decorator to a function, as in \n",
      "\n",
      "    @decoratorname\n",
      "    def function():\n",
      "        pass"
     ]
    },
    {
     "cell_type": "markdown",
     "metadata": {},
     "source": [
      "11\\. `*args` and `**kwargs` provides the means to pass along any number of function parameters.  This allows one to wrap/decorate any function, irrespective of its signature.  \n",
      "By using `*args` (list of function arguments) and `**kwargs` (dictionary of function keyword arguments) the decorator can be applied to functions and class methods alike, with any number of arguments.  The `*args` list  and `**kwargs` dictionary are just unrolled into the new `func` call."
     ]
    },
    {
     "cell_type": "markdown",
     "metadata": {},
     "source": [
      "12\\. Simple example: printing function parameters before calling a function."
     ]
    },
    {
     "cell_type": "code",
     "collapsed": false,
     "input": [
      "def logger(func):\n",
      "    def inner(*args, **kwargs): \n",
      "        print('Arguments were: {}, {}'.format(args, kwargs))\n",
      "        rtnVal = func(*args, **kwargs)\n",
      "        print('Return value is: {}'.format(rtnVal))\n",
      "        return rtnVal\n",
      "    return inner"
     ],
     "language": "python",
     "metadata": {},
     "outputs": []
    },
    {
     "cell_type": "code",
     "collapsed": false,
     "input": [
      "@logger\n",
      "def foo1(x,y=1):\n",
      "    return x * y\n",
      "@logger\n",
      "def foo2():\n",
      "    return 2\n",
      "\n",
      "foo1(5,4)\n",
      "foo2()\n"
     ],
     "language": "python",
     "metadata": {},
     "outputs": []
    },
    {
     "cell_type": "markdown",
     "metadata": {},
     "source": [
      "13\\. Here is an example by [Farhad](http://thecodeship.com/patterns/guide-to-python-function-decorators/) of the decorator applied to a class method:"
     ]
    },
    {
     "cell_type": "code",
     "collapsed": false,
     "input": [
      "def p_decorate(func):\n",
      "   def inner(*args, **kwargs):\n",
      "       return \"<p>{0}</p>\".format(func(*args, **kwargs))\n",
      "   return inner\n",
      "\n",
      "class Person(object):\n",
      "    def __init__(self):\n",
      "        self.name = \"John\"\n",
      "        self.family = \"Doe\"\n",
      "\n",
      "    @p_decorate\n",
      "    def get_fullname(self):\n",
      "        return self.name+\" \"+self.family\n",
      "\n",
      "my_person = Person()\n",
      "\n",
      "print my_person.get_fullname()\n"
     ],
     "language": "python",
     "metadata": {},
     "outputs": []
    },
    {
     "cell_type": "heading",
     "level": 3,
     "metadata": {},
     "source": [
      "Passing arguments to decorators"
     ]
    },
    {
     "cell_type": "markdown",
     "metadata": {},
     "source": [
      "Decorators can be passed arguments by using an *additional* level of function nesting around the decorators seen thus far.\n",
      "\n",
      "This [Farhad](http://thecodeship.com/patterns/guide-to-python-function-decorators/) example passes arguments to the decorator function:\n"
     ]
    },
    {
     "cell_type": "code",
     "collapsed": false,
     "input": [
      "def tags(tag_name):\n",
      "    def tags_decorator(func):\n",
      "        def inner(name):\n",
      "            return '<{0}>{1}</{0}>'.format(tag_name, func(name))\n",
      "        return inner\n",
      "    return tags_decorator\n",
      "\n",
      "@tags('p')\n",
      "@tags('strong')\n",
      "def get_text(name):\n",
      "    return 'Hello '+name\n",
      "\n",
      "print get_text('John')\n"
     ],
     "language": "python",
     "metadata": {},
     "outputs": []
    },
    {
     "cell_type": "markdown",
     "metadata": {},
     "source": [
      "You can also pass conditionals to decorators to change behaviour."
     ]
    },
    {
     "cell_type": "code",
     "collapsed": false,
     "input": [
      "def skipIf(conditional, message):\n",
      "    def dec(func):\n",
      "        def inner(*args, **kwargs):\n",
      "            if conditional:\n",
      "                print(message)\n",
      "            else:\n",
      "                return func(*args, **kwargs)\n",
      "        return inner\n",
      "    return dec\n",
      "\n",
      "logical = [True, False]\n",
      "for log in logical:\n",
      "    print(log)\n",
      "    @skipIf(log, 'skipped function call')\n",
      "    def myFunc():\n",
      "        print('in myFunc')\n",
      "    myFunc()"
     ],
     "language": "python",
     "metadata": {},
     "outputs": []
    },
    {
     "cell_type": "heading",
     "level": 2,
     "metadata": {},
     "source": [
      "Decorators and function attributes"
     ]
    },
    {
     "cell_type": "markdown",
     "metadata": {},
     "source": [
      "The decorating wrapper as shown above overwrites the function's attributes, so the wrapped function's attributes are lost.\n",
      "\n",
      "As of Python 2.5, the functools module contains `functools.wraps`, a decorator for updating the attributes of the wrapping function to those of the original function. This is as simple as decorating the inner function with `@wraps(func)`. [Farhad's](http://thecodeship.com/patterns/guide-to-python-function-decorators/) example:"
     ]
    },
    {
     "cell_type": "code",
     "collapsed": false,
     "input": [
      "from functools import wraps\n",
      "\n",
      "def tags(tag_name):\n",
      "    def tags_decorator(func):\n",
      "        @wraps(func)\n",
      "        def inner(name):\n",
      "            return \"<{0}>{1}</{0}>\".format(tag_name, func(name))\n",
      "        return inner\n",
      "    return tags_decorator\n",
      "\n",
      "@tags(\"p\")\n",
      "def get_text(name):\n",
      "    \"\"\"returns some text\"\"\"\n",
      "    return \"Hello \"+name\n",
      "\n",
      "print get_text.__name__ # get_text\n",
      "print get_text.__doc__ # returns some text\n",
      "print get_text.__module__ # __main__\n"
     ],
     "language": "python",
     "metadata": {},
     "outputs": []
    },
    {
     "cell_type": "markdown",
     "metadata": {},
     "source": [
      "Graham Dumpleton created a library called [`wrapt`](https://pypi.python.org/pypi/wrapt), going much beyond `wraps`. Dumpleton writes: \"To  provide a transparent object proxy for Python, which can be used as the basis for the construction of function wrappers and decorator functions. \n",
      "It therefore goes way beyond existing mechanisms such as functools.wraps() to ensure that decorators preserve introspectability, signatures, type checking abilities etc. The decorators that can be constructed using this module will work in far more scenarios than typical decorators and provide more predictable and consistent behaviour.\" See the use of this module below."
     ]
    },
    {
     "cell_type": "heading",
     "level": 2,
     "metadata": {},
     "source": [
      "Decorator classes"
     ]
    },
    {
     "cell_type": "markdown",
     "metadata": {},
     "source": [
      "The decorator wrapper must be a callable, such as a function (shown above) or a class with a `__call__()` member function. Hence classes can also be used as decorators.  Class decorators are slightly more involved than function decorators, but implements the same functionality. See [Eckel's blogs](https://www.artima.com/weblogs/viewpost.jsp?thread=240845) \n",
      "\n",
      "When using the class as a decorator, the class is initialised and remembers the original function, whereas function decorators reassign the original function name to the newly wrapped function name.\n",
      "\n",
      "Use `functools.update_wrapper()` to make available the wrapped functions attributes to the decorator wrapping class.\n"
     ]
    },
    {
     "cell_type": "code",
     "collapsed": false,
     "input": [
      "from functools import update_wrapper\n",
      "\n",
      "class myDecorator(object):\n",
      "\n",
      "    def __init__(self, f):\n",
      "        print('inside myDecorator.__init__()')\n",
      "        self.f = f\n",
      "        update_wrapper(self, f)\n",
      "\n",
      "    def __call__(self):\n",
      "        print \"Entering\", self.f.__name__\n",
      "        self.f()\n",
      "        print \"Exited\", self.f.__name__\n",
      "\n",
      "@myDecorator\n",
      "def aFunction():\n",
      "    \"\"\"aFunction does aThing\"\"\"\n",
      "    print('inside aFunction()')\n",
      "\n",
      "print('Finished decorating aFunction()\\n')\n",
      "\n",
      "aFunction()\n",
      "\n",
      "print('\\nWrapped function name is {}'.format(aFunction.__name__))\n",
      "print('Wrapped docstring is \"{}\"'.format(aFunction.__doc__))"
     ],
     "language": "python",
     "metadata": {},
     "outputs": []
    },
    {
     "cell_type": "markdown",
     "metadata": {},
     "source": [
      "\n",
      "Class decorators can also have parameters. This time the decorator class implementation is a lot more complex than the decorator function implementation."
     ]
    },
    {
     "cell_type": "code",
     "collapsed": false,
     "input": [
      "class decoratorWithArguments(object):\n",
      "\n",
      "    def __init__(self, arg1, arg2, arg3):\n",
      "        \"\"\"\n",
      "        If there are decorator arguments, the function\n",
      "        to be decorated is not passed to the constructor!\n",
      "        \"\"\"\n",
      "        print('Inside __init__()')\n",
      "        self.arg1 = arg1\n",
      "        self.arg2 = arg2\n",
      "        self.arg3 = arg3\n",
      "\n",
      "    def __call__(self, f):\n",
      "        \"\"\"\n",
      "        If there are decorator arguments, __call__() is only called\n",
      "        once, as part of the decoration process! You can only give\n",
      "        it a single argument, which is the function object.\n",
      "        \"\"\"\n",
      "        print('Inside __call__()')\n",
      "        def wrapped_f(*args):\n",
      "            print('Inside wrapped_f()')\n",
      "            print('Decorator arguments: {} {} {} '.format(self.arg1, self.arg2, self.arg3))\n",
      "            f(*args)\n",
      "            print('After f(*args)')\n",
      "        return wrapped_f\n",
      "\n",
      "@decoratorWithArguments(\"hello\", \"world\", 42)\n",
      "def sayHello(a1, a2, a3, a4):\n",
      "    print('sayHello arguments: {} {} {} {}'.format(a1, a2, a3, a4))\n",
      "\n",
      "print('After decoration')\n",
      "\n",
      "print('Preparing to call sayHello()')\n",
      "sayHello(\"say\", \"hello\", \"argument\", \"list\")\n",
      "print('after first sayHello() call')\n",
      "sayHello(\"a\", \"different\", \"set of\", \"arguments\")\n",
      "print('after second sayHello() call')"
     ],
     "language": "python",
     "metadata": {},
     "outputs": []
    },
    {
     "cell_type": "markdown",
     "metadata": {},
     "source": [
      "This seems overly complex and confusing, but I guess it might be required for some sophisticated applications. In [Eckel's](https://www.artima.com/weblogs/viewpost.jsp?thread=240845) own words:\n",
      "\n",
      "\"Now the process of decoration calls the constructor and then immediately invokes `__call__()`, which can only take a single argument (the function object) and must return the decorated function object that replaces the original. Notice that `__call__()` is now only invoked once, during decoration, and after that the decorated function that you return from `__call__()` is used for the actual calls.\"\n",
      "\n",
      "\"Although this behavior makes sense -- the constructor is now used to capture the decorator arguments, but the object `__call__()` can no longer be used as the decorated function call, so you must instead use `__call__()` to perform the decoration -- it is nonetheless surprising the first time you see it because it's acting so much differently than the no-argument case, and you must code the decorator very differently from the no-argument case.\""
     ]
    },
    {
     "cell_type": "heading",
     "level": 2,
     "metadata": {},
     "source": [
      "Decorating classes"
     ]
    },
    {
     "cell_type": "markdown",
     "metadata": {},
     "source": [
      "All the examples thus far decorated/wrapped functions.  Can classes be decorated?  Based on this blog by [da Palma](http://andrefsp.wordpress.com/2012/08/23/writing-a-class-decorator-in-python/), it seems that there are two options: (1) decorating a class by decorating each of its member functions and (2) where you write a class decorator and select which methods to decorate passing their names as the decorator arguments.\n",
      "I repeat his code below exactly as blogged."
     ]
    },
    {
     "cell_type": "code",
     "collapsed": false,
     "input": [
      "def method_decorator(fn):\n",
      "    \"Example of a method decorator\"\n",
      "    def decorator(*args, **kwargs):\n",
      "        print \"\\tInside the decorator\"\n",
      "        return fn(*args, **kwargs)\n",
      "\n",
      "    return decorator\n",
      "\n",
      "class MyFirstClass(object):\n",
      "    \"\"\"\n",
      "    This class has all its methods decorated\n",
      "    \"\"\"\n",
      "    @method_decorator\n",
      "    def first_method(self, *args, **kwargs):\n",
      "        print \"\\t\\tthis is a the MyFirstClass.first_method\"\n",
      "\n",
      "    @method_decorator\n",
      "    def second_method(self, *args, **kwargs):\n",
      "        print \"\\t\\tthis is the MyFirstClass.second_method\"\n",
      "\n",
      "if __name__ == \"__main__\":\n",
      "    print \"::: With decorated methods :::\"\n",
      "    x = MyFirstClass()\n",
      "    x.first_method()\n",
      "    x.second_method()"
     ],
     "language": "python",
     "metadata": {},
     "outputs": []
    },
    {
     "cell_type": "code",
     "collapsed": false,
     "input": [
      "def method_decorator(fn):\n",
      "    \"Example of a method decorator\"\n",
      "    def decorator(*args, **kwargs):\n",
      "        print \"\\tInside the decorator\"\n",
      "        return fn(*args, **kwargs)\n",
      "\n",
      "    return decorator\n",
      "\n",
      "\n",
      "def class_decorator(*method_names):\n",
      "    def class_rebuilder(cls):\n",
      "        \"The class decorator example\"\n",
      "        class NewClass(cls):\n",
      "            \"This is the overwritten class\"\n",
      "            def __getattribute__(self, attr_name):\n",
      "                obj = super(NewClass, self).__getattribute__(attr_name)\n",
      "                if hasattr(obj, '__call__') and attr_name in method_names:\n",
      "                    return method_decorator(obj)\n",
      "                return obj\n",
      "\n",
      "        return NewClass\n",
      "    return class_rebuilder\n",
      "\n",
      "\n",
      "@class_decorator('first_method', 'second_method')\n",
      "class MySecondClass(object):\n",
      "    \"\"\"\n",
      "    This class is decorated\n",
      "    \"\"\"\n",
      "    def first_method(self, *args, **kwargs):\n",
      "        print \"\\t\\tthis is a the MySecondClass.first_method\"\n",
      "\n",
      "    def second_method(self, *args, **kwargs):\n",
      "        print \"\\t\\tthis is the MySecondClass.second_method\"\n",
      "\n",
      "if __name__ == \"__main__\":\n",
      "    print \"::: With a decorated class :::\"\n",
      "    z = MySecondClass()\n",
      "    z.first_method()\n",
      "    z.second_method()"
     ],
     "language": "python",
     "metadata": {},
     "outputs": []
    },
    {
     "cell_type": "heading",
     "level": 2,
     "metadata": {},
     "source": [
      "Dumpleton's `warpt` module"
     ]
    },
    {
     "cell_type": "markdown",
     "metadata": {},
     "source": [
      "I discoved [Dumpleton's work](http://wrapt.readthedocs.org/en/latest/) in his \n",
      "[Pycon 2014 video](https://www.youtube.com/watch?v=7jGtDGxgwEY), after all of the above was written. The writeup above is still valid but it is recommended that you use the [wrapt module](https://pypi.python.org/pypi/wrapt) for production work on decorators, wrappers and monkey patching. This module provides the required  robustness to decorators to behave as expected (e.g., as functions) under all conditions.  \n",
      "\n",
      "Dumpleton shows in his talk how the techniques described above have weaknesses when it comes to accessing the wrapped function's attributes and descriptors. During the talk, Dumpleton smiled and made the remark \"totally losing you at this point, I guess\" and \"I will let you digest that one...\". This is indeed the case when he goes into the very deep details of fixing the weaknesses of the simple decorators.  Fortunately you don't have to understand the inner details to use the [wrapt module](https://pypi.python.org/pypi/wrapt).\n",
      "\n",
      "Dumpleton's estimate is that 90% of all decorator requirements can be met by simple function closure wrappers (as described above) - but you lose significant introspection functionality. He recommends that you use [wrapt](http://wrapt.readthedocs.org/en/latest/) for developing libraries that will be used by other people."
     ]
    },
    {
     "cell_type": "markdown",
     "metadata": {},
     "source": [
      "The `wrapt` module results in more compact code and full introspection functionality; no `inner` function coding is required."
     ]
    },
    {
     "cell_type": "code",
     "collapsed": false,
     "input": [
      "import wrapt\n",
      "\n",
      "@wrapt.decorator\n",
      "def pass_through(wrapped, instance, args, kwargs):\n",
      "    return wrapped(*args, **kwargs)\n",
      "\n",
      "@pass_through\n",
      "def function():\n",
      "    \"\"\"Function docstring\"\"\"\n",
      "    print('Using wrapt with a decorator function and no decorator arguments')\n",
      "\n",
      "function()\n",
      "print('Function name'.format(function.__name__))\n",
      "print('Function doctring'.format(function.__doc__))\n"
     ],
     "language": "python",
     "metadata": {},
     "outputs": []
    },
    {
     "cell_type": "code",
     "collapsed": false,
     "input": [
      "import wrapt\n",
      "\n",
      "class with_arguments(object):\n",
      "\n",
      "    def __init__(self, myarg1, myarg2):\n",
      "        self.myarg1 = myarg1\n",
      "        self.myarg2 = myarg2\n",
      "\n",
      "    @wrapt.decorator\n",
      "    def __call__(self, wrapped, instance, args, kwargs):\n",
      "        return wrapped(*args, **kwargs)\n",
      "\n",
      "@with_arguments(1, 2)\n",
      "def function():\n",
      "    print('Using wrapt with a decorator class and decorator arguments')\n",
      "\n",
      "function()"
     ],
     "language": "python",
     "metadata": {},
     "outputs": []
    },
    {
     "cell_type": "markdown",
     "metadata": {},
     "source": [
      "`wrapt` decorators can be enabled and disabled by setting a flag.  If enabled, the wrapped function is returned, if disabled, the original function is returned."
     ]
    },
    {
     "cell_type": "code",
     "collapsed": false,
     "input": [
      "for ENABLED in [True, False]:\n",
      "    print('\\nDecorator enabled is {}'.format(ENABLED))\n",
      "\n",
      "    @wrapt.decorator(enabled=ENABLED)\n",
      "    def pass_through(wrapped, instance, args, kwargs):\n",
      "        print('In decorator, before calling function')\n",
      "        wraptfun = wrapped(*args, **kwargs)\n",
      "        print('In decorator, after calling function')\n",
      "        return wraptfun\n",
      "\n",
      "    @pass_through\n",
      "    def function():\n",
      "        print('Executing function')\n",
      "    print(type(function))\n",
      "    function()\n",
      "\n"
     ],
     "language": "python",
     "metadata": {},
     "outputs": []
    },
    {
     "cell_type": "heading",
     "level": 2,
     "metadata": {},
     "source": [
      "Decorator applications"
     ]
    },
    {
     "cell_type": "heading",
     "level": 3,
     "metadata": {},
     "source": [
      "Context managers"
     ]
    },
    {
     "cell_type": "markdown",
     "metadata": {},
     "source": [
      "This example is a very simple example of applying the `@contextmanager` decorator. The program flow is really simple: you (1) create some context, (2) yield when the context is used and (3) finalise your work when closing the context.  the example below is a simple implementation of the `with open() as f` idiom using a function."
     ]
    },
    {
     "cell_type": "code",
     "collapsed": false,
     "input": [
      "from contextlib import contextmanager\n",
      "\n",
      "@contextmanager\n",
      "def myfile(filename, filemode):\n",
      "    f = open(filename, filemode)\n",
      "    try:\n",
      "        yield f\n",
      "    finally:\n",
      "        f.close()\n",
      "                    \n",
      "with myfile('test.txt','w') as mf:\n",
      "    mf.write('one line\\n')\n",
      "\n",
      "import os.path    \n",
      "if os.path.sep == '/':\n",
      "    !cat test.txt\n",
      "else:\n",
      "    !type test.txt\n"
     ],
     "language": "python",
     "metadata": {},
     "outputs": []
    },
    {
     "cell_type": "markdown",
     "metadata": {},
     "source": [
      "The context manager can also use a class to set up and finalise the context."
     ]
    },
    {
     "cell_type": "code",
     "collapsed": false,
     "input": [
      "class MyFile:\n",
      "    def __init__(self, filename, mode):\n",
      "        self.filename = filename\n",
      "        self.mode = mode\n",
      " \n",
      "    def __enter__(self):\n",
      "        self.thefile = open(self.filename, self.mode)\n",
      "        return self.thefile\n",
      " \n",
      "    def __exit__(self, *unused):\n",
      "        self.thefile.close()\n",
      " \n",
      "with MyFile('test2.txt','w') as writer:\n",
      "    writer.write(\"Hello World from our new Context Manager!\")\n",
      "    \n",
      "import os.path    \n",
      "if os.path.sep == '/':\n",
      "    !cat test2.txt\n",
      "else:\n",
      "    !type test2.txt\n"
     ],
     "language": "python",
     "metadata": {},
     "outputs": []
    },
    {
     "cell_type": "heading",
     "level": 3,
     "metadata": {},
     "source": [
      "Timing with decorators"
     ]
    },
    {
     "cell_type": "code",
     "collapsed": false,
     "input": [
      "import math\n",
      "import time\n",
      "\n",
      "def time_dec(func):\n",
      "  def inner(*args, **kwargs):\n",
      "      t = time.clock()\n",
      "      res = func(*args, **kwargs)\n",
      "      print('fn={} time={}'.format(func.func_name, time.clock()-t))\n",
      "      return res\n",
      "  return inner\n",
      "\n",
      "@time_dec\n",
      "def myFunction(a):\n",
      "    return math.atan(a)\n",
      "    \n",
      "print(myFunction(0.55))    \n",
      "    "
     ],
     "language": "python",
     "metadata": {},
     "outputs": []
    },
    {
     "cell_type": "markdown",
     "metadata": {},
     "source": [
      "###Chaining decorators\n",
      "\n",
      "Chaining decorators is simply wrapping decorators within decorators, within decorators...."
     ]
    },
    {
     "cell_type": "code",
     "collapsed": false,
     "input": [
      "def makebold(fn):\n",
      "    def inner(*args, **kwargs):\n",
      "        return \"<b>\" + fn(*args, **kwargs) + \"</b>\"\n",
      "    return inner\n",
      "\n",
      "def makeitalic(fn):\n",
      "    def inner(*args, **kwargs):\n",
      "        return \"<i>\" + fn(*args, **kwargs) + \"</i>\"\n",
      "    return inner\n",
      "\n",
      "@makebold\n",
      "@makeitalic\n",
      "def hello():\n",
      "    return 'hello world'\n",
      "\n",
      "print hello()"
     ],
     "language": "python",
     "metadata": {},
     "outputs": []
    },
    {
     "cell_type": "heading",
     "level": 3,
     "metadata": {},
     "source": [
      "Counting the number of times a function is called"
     ]
    },
    {
     "cell_type": "code",
     "collapsed": false,
     "input": [
      "def count(func):\n",
      "  def inner(*args, **kwargs):\n",
      "      inner.counter += 1\n",
      "      return func(*args, **kwargs)\n",
      "  inner.counter = 0\n",
      "  return inner\n",
      "\n",
      "@count\n",
      "def myFunction():\n",
      "    pass\n",
      "    \n",
      "myFunction()\n",
      "myFunction()\n",
      "\n",
      "print(myFunction.counter)    "
     ],
     "language": "python",
     "metadata": {},
     "outputs": []
    },
    {
     "cell_type": "heading",
     "level": 3,
     "metadata": {},
     "source": [
      "Redirecting stdout to logger"
     ]
    },
    {
     "cell_type": "code",
     "collapsed": false,
     "input": [
      "import logging\n",
      "import sys\n",
      "\n",
      "class LogPrinter:\n",
      "    '''LogPrinter class which serves to emulates a file object and logs\n",
      "       whatever it gets sent to a Logger object at the INFO level.'''\n",
      "    def __init__(self):\n",
      "        '''Grabs the specific logger to use for logprinting.'''\n",
      "        self.ilogger = logging.getLogger('logprinter')\n",
      "        il = self.ilogger\n",
      "        logging.basicConfig()\n",
      "        il.setLevel(logging.INFO)\n",
      "        hdlr = logging.FileHandler('logprinter.log')\n",
      "        formatter = logging.Formatter('%(asctime)s %(levelname)s %(message)s')\n",
      "        hdlr.setFormatter(formatter)\n",
      "        self.ilogger.addHandler(hdlr) \n",
      "\n",
      "    def write(self, text):\n",
      "        '''Logs written output to a specific logger'''\n",
      "        self.ilogger.info(text)\n",
      "\n",
      "def logprintinfo(func):\n",
      "    '''Wraps a method so that any calls made to print get logged instead'''\n",
      "    def pwrapper(*arg, **kwargs):\n",
      "        stdobak = sys.stdout\n",
      "        lpinstance = LogPrinter()\n",
      "        sys.stdout = lpinstance\n",
      "        try:\n",
      "            return func(*arg, **kwargs)\n",
      "        finally:\n",
      "            sys.stdout = stdobak\n",
      "    return pwrapper\n",
      "\n",
      "@logprintinfo\n",
      "def somePrintingFunc():\n",
      "    print('Hello output')\n",
      "    \n",
      "somePrintingFunc()\n",
      "\n",
      "import os.path    \n",
      "if os.path.sep == '/':\n",
      "    !cat logprinter.log\n",
      "else:\n",
      "    !type logprinter.log\n"
     ],
     "language": "python",
     "metadata": {},
     "outputs": []
    },
    {
     "cell_type": "heading",
     "level": 3,
     "metadata": {},
     "source": [
      "A decorator-based build system"
     ]
    },
    {
     "cell_type": "markdown",
     "metadata": {},
     "source": [
      "[Bruce Eckel](https://www.artima.com/weblogs/viewpost.jsp?thread=241209) built a build system using python decorators. His motivation is that build systems really need a language and that `make` and `ant` do not supply sufficient capability in this area.  In my own view [CMake](http://www.cmake.org/) is the better way to go here - is has a horrible language, but it works."
     ]
    },
    {
     "cell_type": "heading",
     "level": 3,
     "metadata": {},
     "source": [
      "Repository of decorators"
     ]
    },
    {
     "cell_type": "markdown",
     "metadata": {},
     "source": [
      "<https://wiki.python.org/moin/PythonDecoratorLibrary> has a large number of decorators for many different applications. The following is a list of some of these.  The code won't work here, because some of the decorators are quite long and must be included in your code."
     ]
    },
    {
     "cell_type": "markdown",
     "metadata": {},
     "source": [
      "Use the `accepts` decorator for type checking:  \n",
      "\n",
      "    @accepts(uint, utf8string)\n",
      "    def myMethod(ID, name):\n",
      "        print(ID, name)\n",
      "\n",
      "    myMethod(4, 'string')"
     ]
    },
    {
     "cell_type": "markdown",
     "metadata": {},
     "source": [
      "Implement singletons:  \n",
      "\n",
      "    @singleton\n",
      "    class Highlander:\n",
      "        x = 100\n",
      "\n",
      "    Highlander() is Highlander() is Highlander #=> True\n",
      "    id(Highlander()) == id(Highlander) #=> True\n",
      "    Highlander().x == Highlander.x == 100 #=> True\n",
      "    Highlander.x = 50\n",
      "    Highlander().x == Highlander.x == 50 #=> True"
     ]
    },
    {
     "cell_type": "markdown",
     "metadata": {},
     "source": [
      "Memoizing a class. Caches a function's return value each time it is called. If called later with the same arguments, the cached value is returned (not reevaluated)\n",
      "\n",
      "    @memoized\n",
      "    def fibonacci(n):\n",
      "       \"Return the nth fibonacci number.\"\n",
      "       if n in (0, 1):\n",
      "          return n\n",
      "       return fibonacci(n-1) + fibonacci(n-2)\n",
      "\n",
      "    print fibonacci(12)\n"
     ]
    },
    {
     "cell_type": "markdown",
     "metadata": {},
     "source": [
      "Smart deprecation warnings (with valid filenames, line numbers, etc.)\n",
      "\n",
      "    @deprecated\n",
      "    def my_func():\n",
      "        pass\n",
      "\n",
      "    my_func()"
     ]
    },
    {
     "cell_type": "markdown",
     "metadata": {},
     "source": [
      "Easy Dump of Function Arguments\n",
      "\n",
      "    @dump_args\n",
      "    def f1(a,b,c):\n",
      "        print a + b + c\n",
      "\n",
      "    f1(1, 2, 3)"
     ]
    },
    {
     "cell_type": "markdown",
     "metadata": {},
     "source": [
      "State machine implementations  \n",
      "<https://wiki.python.org/moin/PythonDecoratorLibrary#State_Machine_Implementaion>  \n",
      "<https://wiki.python.org/moin/State%20Machine%20via%20Decorators>"
     ]
    },
    {
     "cell_type": "markdown",
     "metadata": {},
     "source": [
      "Access control prevents users from getting access to places where they are not authorised to go.\n",
      "\n",
      "    @LoginCheck\n",
      "    def display_members_page():\n",
      "        print 'This is the members page'"
     ]
    },
    {
     "cell_type": "heading",
     "level": 2,
     "metadata": {},
     "source": [
      "References"
     ]
    },
    {
     "cell_type": "markdown",
     "metadata": {},
     "source": [
      "Pycon 2014 videos:  \n",
      "[Colton Myers: Decorators: A Powerful Weapon in your Python Arsenal](https://www.youtube.com/watch?v=9oyr0mocZTg)  \n",
      "[Graham Dumpleton: Advanced methods for creating decorators](https://www.youtube.com/watch?v=7jGtDGxgwEY)  \n",
      "[Harrison: Hands-on Intermediate Python](https://www.youtube.com/watch?v=29iDgal40hc)\n",
      "\n",
      "The definitive work on decorators:  \n",
      "[Dumpleton: wrapt package](https://pypi.python.org/pypi/wrapt)  \n",
      "[Dumpleton: wrapt documentation](http://wrapt.readthedocs.org/en/latest/)  \n",
      "\n",
      "Decorator repository:  \n",
      "[wiki.python.org](https://wiki.python.org/moin/PythonDecoratorLibrary)  \n",
      "\n",
      "Blogs:  \n",
      "[Knupp: Improve Your Python: Decorators Explained](https://www.jeffknupp.com/blog/2013/11/29/improve-your-python-decorators-explained/)  \n",
      "[Franklin: Understanding Python Decorators in 12 Easy Steps!](http://simeonfranklin.com/blog/2012/jul/1/python-decorators-in-12-steps/)  \n",
      "[Eckel: Decorators I: Introduction to Python Decorators](https://www.artima.com/weblogs/viewpost.jsp?thread=240808)  \n",
      "[Eckel: Python Decorators II: Decorator Arguments](https://www.artima.com/weblogs/viewpost.jsp?thread=240845)  \n",
      "[Eckel: Python Decorators III: A Decorator-Based Build System](https://www.artima.com/weblogs/viewpost.jsp?thread=241209)  \n",
      "[Farhat: A guide to Python's function decorators](http://thecodeship.com/patterns/guide-to-python-function-decorators/)\n",
      "[Yasoob: Python decorators finally demystified](http://freepythontips.wordpress.com/2013/12/05/python-decorators-finally-demystified/)  \n",
      "[Simionato: PyPI decorator module](https://pypi.python.org/pypi/decorator)  \n",
      "[da Palma: Writing a class decorator in Python](http://andrefsp.wordpress.com/2012/08/23/writing-a-class-decorator-in-python/)  \n",
      "[Harrison: Guide to learning Python decorators](http://hairysun.com/books/decorators/)\n",
      "[Hellman: contextlib \u2013 Context manager utilities](http://pymotw.com/2/contextlib/)  \n",
      "[Context managers in Python](http://pypix.com/python/context-managers/)  \n",
      "[Python wiki: PythonDecorators](https://wiki.python.org/moin/PythonDecorators)  \n",
      "[Chaining decorators](https://stackoverflow.com/questions/739654/how-can-i-make-a-chain-of-function-decorators-in-python)  \n",
      "[Some common uses](https://stackoverflow.com/questions/489720/what-are-some-common-uses-for-python-decorators)  \n"
     ]
    },
    {
     "cell_type": "heading",
     "level": 2,
     "metadata": {},
     "source": [
      "Python and [module versions, and dates](http://nbviewer.ipython.org/github/jrjohansson/scientific-python-lectures/blob/master/Lecture-0-Scientific-Computing-with-Python.ipynb)"
     ]
    },
    {
     "cell_type": "code",
     "collapsed": false,
     "input": [
      "%load_ext version_information\n",
      "%version_information "
     ],
     "language": "python",
     "metadata": {},
     "outputs": []
    },
    {
     "cell_type": "heading",
     "level": 2,
     "metadata": {},
     "source": [
      "Source and feedback"
     ]
    },
    {
     "cell_type": "markdown",
     "metadata": {},
     "source": [
      "The source of this notebook is available at <https://github.com/NelisW/PythonNotesToSelf>  \n",
      "Feedback welcome: neliswillers at gmail.  "
     ]
    }
   ],
   "metadata": {}
  }
 ]
}