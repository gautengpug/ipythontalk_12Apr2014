{
 "metadata": {
  "name": "",
  "signature": "sha256:54d4de46f81db8b2381e4ff113398fde3855e5107de0abecc53ffeea6a3c006a"
 },
 "nbformat": 3,
 "nbformat_minor": 0,
 "worksheets": []
}