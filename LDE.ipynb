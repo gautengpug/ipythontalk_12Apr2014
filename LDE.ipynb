{
 "metadata": {
  "name": "",
  "signature": "sha256:79e414d549944d9c6f45bf6b6161c04e76d5116212d6b7c067dcb763ae3973ca"
 },
 "nbformat": 3,
 "nbformat_minor": 0,
 "worksheets": [
  {
   "cells": [
    {
     "cell_type": "code",
     "collapsed": false,
     "input": [
      "# Load a custom CSS and import plotting\n",
      "# https://github.com/fperez/pycon2014-keynote\n",
      "%run talktools.py \n",
      "#makes sure inline plotting is enabled\n",
      "%pylab inline \n",
      "#set figure size\n",
      "figsize(20, 6) \n"
     ],
     "language": "python",
     "metadata": {
      "slideshow": {
       "slide_type": "slide"
      }
     },
     "outputs": []
    },
    {
     "cell_type": "markdown",
     "metadata": {
      "slideshow": {
       "slide_type": "slide"
      }
     },
     "source": [
      "# Exploring the Lorenz System of Differential Equations\n",
      "\n",
      "In this Notebook we explore the Lorenz system of differential equations:\n",
      "\n",
      "$$\n",
      "\\begin{aligned}\n",
      "\\dot{x} & = \\sigma(y-x) \\\\\n",
      "\\dot{y} & = \\rho x - y - xz \\\\\n",
      "\\dot{z} & = -\\beta z + xy\n",
      "\\end{aligned}\n",
      "$$\n",
      "\n",
      "* This is one of the classic systems in non-linear differential equations\n",
      "* It exhibits a range of different behaviors as the parameters ($\\sigma$, $\\beta$, $\\rho$) are varied."
     ]
    },
    {
     "cell_type": "code",
     "collapsed": false,
     "input": [
      "%matplotlib inline\n",
      "from IPython.html.widgets import interact, interactive\n",
      "from IPython.display import clear_output, display, HTML\n",
      "import numpy as np\n",
      "from scipy import integrate\n",
      "\n",
      "from matplotlib import pyplot as plt\n",
      "from mpl_toolkits.mplot3d import Axes3D\n",
      "from matplotlib.colors import cnames\n",
      "from matplotlib import animation"
     ],
     "language": "python",
     "metadata": {
      "slideshow": {
       "slide_type": "slide"
      }
     },
     "outputs": []
    },
    {
     "cell_type": "markdown",
     "metadata": {
      "slideshow": {
       "slide_type": "slide"
      }
     },
     "source": [
      "#Computing the trajectories and plotting the result\n",
      "\n",
      "We define a function that can integrate the differential equations numerically and then plot the solutions. This function has arguments that control the parameters of the differential equation ($\\sigma$, $\\beta$, $\\rho$), the numerical integration (`N`, `max_time`) and the visualization (`angle`)."
     ]
    },
    {
     "cell_type": "code",
     "collapsed": false,
     "input": [
      "def solve_lorenz(N=10, angle=0.0, max_time=4.0, sigma=10.0, beta=8./3, rho=28.0):\n",
      "\n",
      "    fig = plt.figure()\n",
      "    ax = fig.add_axes([0, 0, 1, 1], projection='3d')\n",
      "    ax.axis('off')\n",
      "\n",
      "    # prepare the axes limits\n",
      "    ax.set_xlim((-25, 25))\n",
      "    ax.set_ylim((-35, 35))\n",
      "    ax.set_zlim((5, 55))\n",
      "    \n",
      "    def lorenz_deriv((x, y, z), t0, sigma=sigma, beta=beta, rho=rho):\n",
      "        \"\"\"Compute the time-derivative of a Lorentz system.\"\"\"\n",
      "        return [sigma * (y - x), x * (rho - z) - y, x * y - beta * z]\n",
      "\n",
      "    # Choose random starting points, uniformly distributed from -15 to 15\n",
      "    np.random.seed(1)\n",
      "    x0 = -15 + 30 * np.random.random((N, 3))\n",
      "\n",
      "    # Solve for the trajectories\n",
      "    t = np.linspace(0, max_time, int(250*max_time))\n",
      "    x_t = np.asarray([integrate.odeint(lorenz_deriv, x0i, t)\n",
      "                      for x0i in x0])\n",
      "    \n",
      "    # choose a different color for each trajectory\n",
      "    colors = plt.cm.jet(np.linspace(0, 1, N))\n",
      "\n",
      "    for i in range(N):\n",
      "        x, y, z = x_t[i,:,:].T\n",
      "        lines = ax.plot(x, y, z, '-', c=colors[i])\n",
      "        plt.setp(lines, linewidth=2)\n",
      "\n",
      "    ax.view_init(30, angle)\n",
      "    plt.show()\n",
      "\n",
      "    return t, x_t"
     ],
     "language": "python",
     "metadata": {
      "slideshow": {
       "slide_type": "slide"
      }
     },
     "outputs": []
    },
    {
     "cell_type": "code",
     "collapsed": false,
     "input": [
      "t, x_t = solve_lorenz(angle=0, N=10)"
     ],
     "language": "python",
     "metadata": {
      "slideshow": {
       "slide_type": "slide"
      }
     },
     "outputs": []
    },
    {
     "cell_type": "code",
     "collapsed": false,
     "input": [
      "w = interactive(\n",
      "            solve_lorenz, angle=(0.,360.), N=(0,50), sigma=(0.0,50.0), rho=(0.0,50.0)\n",
      "            )\n",
      "display(w)"
     ],
     "language": "python",
     "metadata": {
      "slideshow": {
       "slide_type": "slide"
      }
     },
     "outputs": []
    },
    {
     "cell_type": "code",
     "collapsed": false,
     "input": [],
     "language": "python",
     "metadata": {},
     "outputs": []
    }
   ],
   "metadata": {}
  }
 ]
}