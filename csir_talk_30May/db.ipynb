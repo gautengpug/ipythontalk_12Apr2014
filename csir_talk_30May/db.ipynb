{
 "metadata": {
  "name": "",
  "signature": "sha256:f211a1dd1f78ca6ff6adacae3b2d94232efd1cb276553df1a468882a0835e641"
 },
 "nbformat": 3,
 "nbformat_minor": 0,
 "worksheets": [
  {
   "cells": [
    {
     "cell_type": "code",
     "collapsed": false,
     "input": [
      "import numpy as np\n",
      "\n",
      "filename = 'numbers2'\n",
      "import sqlite3 as sq3  # imports the SQLite library\n",
      "\n",
      "query = 'CREATE TABLE numbs (no1 real, no2 real, no3 real, no4 real, no5 real)'\n",
      "con = sq3.connect(filename + '.db')\n",
      "con.execute(query)\n",
      "con.commit()\n",
      "\n",
      "\n",
      "# Writing Random Numbers to SQLite3 Database\n",
      "rows = 2000000  # 2,000,000 rows for the SQL table (ca. 100 MB in size)\n",
      "nr = np.random.standard_normal((rows, 5))\n",
      "%time con.executemany('INSERT INTO numbs VALUES(?, ?, ?, ?, ?)', nr)\n",
      "con.commit()"
     ],
     "language": "python",
     "metadata": {},
     "outputs": [
      {
       "output_type": "stream",
       "stream": "stdout",
       "text": [
        "CPU times: user 30.9 s, sys: 671 ms, total: 31.6 s\n",
        "Wall time: 32.4 s\n"
       ]
      }
     ],
     "prompt_number": 20
    },
    {
     "cell_type": "code",
     "collapsed": false,
     "input": [
      "# Reading a couple of rows from SQLite3 database table\n",
      "np.array(con.execute('SELECT * FROM numbs').fetchmany(10)).round(3)"
     ],
     "language": "python",
     "metadata": {},
     "outputs": [
      {
       "metadata": {},
       "output_type": "pyout",
       "prompt_number": 21,
       "text": [
        "array([[-0.938,  0.122,  1.522,  0.164,  0.05 ],\n",
        "       [-1.58 ,  1.994, -0.609, -0.567, -0.048],\n",
        "       [ 1.496,  0.775,  0.814, -0.54 ,  0.555],\n",
        "       [-0.735,  0.409, -2.208, -1.017, -0.803],\n",
        "       [-0.344,  0.447, -0.315, -0.062, -0.837],\n",
        "       [ 0.578, -1.126,  0.055, -2.002, -0.399],\n",
        "       [-1.325, -1.112,  1.467, -0.669, -0.156],\n",
        "       [-2.329, -1.021,  0.07 ,  0.141,  0.967],\n",
        "       [ 0.417, -0.638, -1.53 ,  0.266, -0.312],\n",
        "       [-1.079, -1.3  ,  0.508,  0.449,  0.792]])"
       ]
      }
     ],
     "prompt_number": 21
    },
    {
     "cell_type": "code",
     "collapsed": false,
     "input": [
      "# Reading the whole table into an NumPy array\n",
      "%time result = np.array(con.execute('SELECT * FROM numbs').fetchall())"
     ],
     "language": "python",
     "metadata": {},
     "outputs": [
      {
       "output_type": "stream",
       "stream": "stdout",
       "text": [
        "CPU times: user 6.87 s, sys: 359 ms, total: 7.23 s\n",
        "Wall time: 7.3 s\n"
       ]
      }
     ],
     "prompt_number": 24
    },
    {
     "cell_type": "code",
     "collapsed": false,
     "input": [
      "result[:10].round(3)  # the same rows from the in-memory array"
     ],
     "language": "python",
     "metadata": {},
     "outputs": [
      {
       "metadata": {},
       "output_type": "pyout",
       "prompt_number": 23,
       "text": [
        "array([[-0.938,  0.122,  1.522,  0.164,  0.05 ],\n",
        "       [-1.58 ,  1.994, -0.609, -0.567, -0.048],\n",
        "       [ 1.496,  0.775,  0.814, -0.54 ,  0.555],\n",
        "       [-0.735,  0.409, -2.208, -1.017, -0.803],\n",
        "       [-0.344,  0.447, -0.315, -0.062, -0.837],\n",
        "       [ 0.578, -1.126,  0.055, -2.002, -0.399],\n",
        "       [-1.325, -1.112,  1.467, -0.669, -0.156],\n",
        "       [-2.329, -1.021,  0.07 ,  0.141,  0.967],\n",
        "       [ 0.417, -0.638, -1.53 ,  0.266, -0.312],\n",
        "       [-1.079, -1.3  ,  0.508,  0.449,  0.792]])"
       ]
      }
     ],
     "prompt_number": 23
    },
    {
     "cell_type": "code",
     "collapsed": false,
     "input": [
      "nr = 0.0; result = 0.0  # memory clean-up"
     ],
     "language": "python",
     "metadata": {},
     "outputs": [],
     "prompt_number": 9
    },
    {
     "cell_type": "code",
     "collapsed": false,
     "input": [
      "import pandas as pd\n",
      "import pandas.io.sql as pds\n",
      "\n",
      "%time data = pds.read_frame('SELECT * FROM numbs', con)\n",
      "con.close()"
     ],
     "language": "python",
     "metadata": {},
     "outputs": [
      {
       "output_type": "stream",
       "stream": "stdout",
       "text": [
        "CPU times: user 6.82 s, sys: 433 ms, total: 7.25 s\n",
        "Wall time: 7.31 s\n"
       ]
      }
     ],
     "prompt_number": 25
    },
    {
     "cell_type": "code",
     "collapsed": false,
     "input": [
      "data.head()"
     ],
     "language": "python",
     "metadata": {},
     "outputs": [
      {
       "html": [
        "<div style=\"max-height:1000px;max-width:1500px;overflow:auto;\">\n",
        "<table border=\"1\" class=\"dataframe\">\n",
        "  <thead>\n",
        "    <tr style=\"text-align: right;\">\n",
        "      <th></th>\n",
        "      <th>no1</th>\n",
        "      <th>no2</th>\n",
        "      <th>no3</th>\n",
        "      <th>no4</th>\n",
        "      <th>no5</th>\n",
        "    </tr>\n",
        "  </thead>\n",
        "  <tbody>\n",
        "    <tr>\n",
        "      <th>0</th>\n",
        "      <td> 0.723665</td>\n",
        "      <td>-1.085326</td>\n",
        "      <td>-1.019907</td>\n",
        "      <td> 0.029654</td>\n",
        "      <td>-0.760406</td>\n",
        "    </tr>\n",
        "    <tr>\n",
        "      <th>1</th>\n",
        "      <td>-1.524139</td>\n",
        "      <td> 0.670913</td>\n",
        "      <td>-0.093958</td>\n",
        "      <td> 0.384716</td>\n",
        "      <td>-0.152697</td>\n",
        "    </tr>\n",
        "    <tr>\n",
        "      <th>2</th>\n",
        "      <td> 0.487277</td>\n",
        "      <td>-0.415286</td>\n",
        "      <td> 0.278011</td>\n",
        "      <td> 0.601301</td>\n",
        "      <td>-0.647679</td>\n",
        "    </tr>\n",
        "    <tr>\n",
        "      <th>3</th>\n",
        "      <td> 0.927392</td>\n",
        "      <td>-0.560231</td>\n",
        "      <td> 1.973070</td>\n",
        "      <td>-2.056113</td>\n",
        "      <td>-1.353036</td>\n",
        "    </tr>\n",
        "    <tr>\n",
        "      <th>4</th>\n",
        "      <td>-1.045351</td>\n",
        "      <td> 0.359796</td>\n",
        "      <td>-1.909923</td>\n",
        "      <td>-1.599614</td>\n",
        "      <td> 0.835731</td>\n",
        "    </tr>\n",
        "  </tbody>\n",
        "</table>\n",
        "<p>5 rows \u00d7 5 columns</p>\n",
        "</div>"
       ],
       "metadata": {},
       "output_type": "pyout",
       "prompt_number": 11,
       "text": [
        "        no1       no2       no3       no4       no5\n",
        "0  0.723665 -1.085326 -1.019907  0.029654 -0.760406\n",
        "1 -1.524139  0.670913 -0.093958  0.384716 -0.152697\n",
        "2  0.487277 -0.415286  0.278011  0.601301 -0.647679\n",
        "3  0.927392 -0.560231  1.973070 -2.056113 -1.353036\n",
        "4 -1.045351  0.359796 -1.909923 -1.599614  0.835731\n",
        "\n",
        "[5 rows x 5 columns]"
       ]
      }
     ],
     "prompt_number": 11
    },
    {
     "cell_type": "code",
     "collapsed": false,
     "input": [
      "%pylab inline\n",
      "data[::500].cumsum().plot(grid=True, legend=True)  # every 500th row is plotted"
     ],
     "language": "python",
     "metadata": {},
     "outputs": [
      {
       "output_type": "stream",
       "stream": "stdout",
       "text": [
        "Populating the interactive namespace from numpy and matplotlib\n"
       ]
      },
      {
       "metadata": {},
       "output_type": "pyout",
       "prompt_number": 13,
       "text": [
        "<matplotlib.axes.AxesSubplot at 0x10c605fd0>"
       ]
      },
      {
       "metadata": {},
       "output_type": "display_data",
       "png": "[encoded data removed]",
       "text": [
        "<matplotlib.figure.Figure at 0x10c605ad0>"
       ]
      }
     ],
     "prompt_number": 13
    },
    {
     "cell_type": "code",
     "collapsed": false,
     "input": [
      "data.describe()\n"
     ],
     "language": "python",
     "metadata": {},
     "outputs": [
      {
       "html": [
        "<div style=\"max-height:1000px;max-width:1500px;overflow:auto;\">\n",
        "<table border=\"1\" class=\"dataframe\">\n",
        "  <thead>\n",
        "    <tr style=\"text-align: right;\">\n",
        "      <th></th>\n",
        "      <th>no1</th>\n",
        "      <th>no2</th>\n",
        "      <th>no3</th>\n",
        "      <th>no4</th>\n",
        "      <th>no5</th>\n",
        "    </tr>\n",
        "  </thead>\n",
        "  <tbody>\n",
        "    <tr>\n",
        "      <th>count</th>\n",
        "      <td> 2000000.000000</td>\n",
        "      <td> 2000000.000000</td>\n",
        "      <td> 2000000.000000</td>\n",
        "      <td> 2000000.000000</td>\n",
        "      <td> 2000000.000000</td>\n",
        "    </tr>\n",
        "    <tr>\n",
        "      <th>mean</th>\n",
        "      <td>      -0.000450</td>\n",
        "      <td>      -0.000892</td>\n",
        "      <td>      -0.000151</td>\n",
        "      <td>       0.000505</td>\n",
        "      <td>       0.000040</td>\n",
        "    </tr>\n",
        "    <tr>\n",
        "      <th>std</th>\n",
        "      <td>       1.000423</td>\n",
        "      <td>       0.999864</td>\n",
        "      <td>       0.999365</td>\n",
        "      <td>       0.999972</td>\n",
        "      <td>       1.000441</td>\n",
        "    </tr>\n",
        "    <tr>\n",
        "      <th>min</th>\n",
        "      <td>      -5.162694</td>\n",
        "      <td>      -4.714437</td>\n",
        "      <td>      -4.882525</td>\n",
        "      <td>      -5.093198</td>\n",
        "      <td>      -4.710851</td>\n",
        "    </tr>\n",
        "    <tr>\n",
        "      <th>25%</th>\n",
        "      <td>      -0.675115</td>\n",
        "      <td>      -0.674400</td>\n",
        "      <td>      -0.674258</td>\n",
        "      <td>      -0.674438</td>\n",
        "      <td>      -0.675073</td>\n",
        "    </tr>\n",
        "    <tr>\n",
        "      <th>50%</th>\n",
        "      <td>      -0.001019</td>\n",
        "      <td>      -0.001245</td>\n",
        "      <td>      -0.000828</td>\n",
        "      <td>       0.000152</td>\n",
        "      <td>      -0.000286</td>\n",
        "    </tr>\n",
        "    <tr>\n",
        "      <th>75%</th>\n",
        "      <td>       0.675267</td>\n",
        "      <td>       0.673354</td>\n",
        "      <td>       0.674067</td>\n",
        "      <td>       0.674793</td>\n",
        "      <td>       0.675533</td>\n",
        "    </tr>\n",
        "    <tr>\n",
        "      <th>max</th>\n",
        "      <td>       4.889553</td>\n",
        "      <td>       4.974671</td>\n",
        "      <td>       5.138316</td>\n",
        "      <td>       4.959749</td>\n",
        "      <td>       4.936169</td>\n",
        "    </tr>\n",
        "  </tbody>\n",
        "</table>\n",
        "<p>8 rows \u00d7 5 columns</p>\n",
        "</div>"
       ],
       "metadata": {},
       "output_type": "pyout",
       "prompt_number": 17,
       "text": [
        "                  no1             no2             no3             no4  \\\n",
        "count  2000000.000000  2000000.000000  2000000.000000  2000000.000000   \n",
        "mean        -0.000450       -0.000892       -0.000151        0.000505   \n",
        "std          1.000423        0.999864        0.999365        0.999972   \n",
        "min         -5.162694       -4.714437       -4.882525       -5.093198   \n",
        "25%         -0.675115       -0.674400       -0.674258       -0.674438   \n",
        "50%         -0.001019       -0.001245       -0.000828        0.000152   \n",
        "75%          0.675267        0.673354        0.674067        0.674793   \n",
        "max          4.889553        4.974671        5.138316        4.959749   \n",
        "\n",
        "                  no5  \n",
        "count  2000000.000000  \n",
        "mean         0.000040  \n",
        "std          1.000441  \n",
        "min         -4.710851  \n",
        "25%         -0.675073  \n",
        "50%         -0.000286  \n",
        "75%          0.675533  \n",
        "max          4.936169  \n",
        "\n",
        "[8 rows x 5 columns]"
       ]
      }
     ],
     "prompt_number": 17
    },
    {
     "cell_type": "code",
     "collapsed": false,
     "input": [],
     "language": "python",
     "metadata": {},
     "outputs": []
    }
   ],
   "metadata": {}
  }
 ]
}